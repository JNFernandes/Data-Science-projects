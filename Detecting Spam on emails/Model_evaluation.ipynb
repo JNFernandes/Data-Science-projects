{
 "cells": [
  {
   "cell_type": "markdown",
   "id": "prompt-village",
   "metadata": {},
   "source": [
    "# Import Modules"
   ]
  },
  {
   "cell_type": "code",
   "execution_count": 1,
   "id": "designed-intensity",
   "metadata": {},
   "outputs": [],
   "source": [
    "import numpy as np\n",
    "import pandas as pd\n",
    "\n",
    "from sklearn.feature_extraction.text import CountVectorizer\n",
    "\n",
    "from sklearn.model_selection import train_test_split\n",
    "from sklearn.naive_bayes import MultinomialNB\n",
    "\n",
    "from sklearn.metrics import confusion_matrix, accuracy_score, classification_report"
   ]
  },
  {
   "cell_type": "code",
   "execution_count": 2,
   "id": "organic-summer",
   "metadata": {},
   "outputs": [],
   "source": [
    "DATA_JSON_FILE = \"email-data.json\""
   ]
  },
  {
   "cell_type": "code",
   "execution_count": 3,
   "id": "corresponding-macedonia",
   "metadata": {},
   "outputs": [],
   "source": [
    "df = pd.read_json(DATA_JSON_FILE)"
   ]
  },
  {
   "cell_type": "code",
   "execution_count": 4,
   "id": "missing-teddy",
   "metadata": {},
   "outputs": [
    {
     "data": {
      "text/html": [
       "<div>\n",
       "<style scoped>\n",
       "    .dataframe tbody tr th:only-of-type {\n",
       "        vertical-align: middle;\n",
       "    }\n",
       "\n",
       "    .dataframe tbody tr th {\n",
       "        vertical-align: top;\n",
       "    }\n",
       "\n",
       "    .dataframe thead th {\n",
       "        text-align: right;\n",
       "    }\n",
       "</style>\n",
       "<table border=\"1\" class=\"dataframe\">\n",
       "  <thead>\n",
       "    <tr style=\"text-align: right;\">\n",
       "      <th></th>\n",
       "      <th>EMAIL</th>\n",
       "      <th>LABEL</th>\n",
       "      <th>FILE_NAME</th>\n",
       "    </tr>\n",
       "  </thead>\n",
       "  <tbody>\n",
       "    <tr>\n",
       "      <th>0</th>\n",
       "      <td>Date:        Wed, 21 Aug 2002 10:54:46 -05...</td>\n",
       "      <td>0</td>\n",
       "      <td>0</td>\n",
       "    </tr>\n",
       "    <tr>\n",
       "      <th>1</th>\n",
       "      <td>Martin A posted:\\n\\nTassos Papadopoulos, the G...</td>\n",
       "      <td>0</td>\n",
       "      <td>1</td>\n",
       "    </tr>\n",
       "    <tr>\n",
       "      <th>2</th>\n",
       "      <td>Man Threatens Explosion In Moscow \\n\\n\\n\\nThur...</td>\n",
       "      <td>0</td>\n",
       "      <td>2</td>\n",
       "    </tr>\n",
       "    <tr>\n",
       "      <th>3</th>\n",
       "      <td>Klez: The Virus That Won't Die\\n\\n \\n\\nAlready...</td>\n",
       "      <td>0</td>\n",
       "      <td>3</td>\n",
       "    </tr>\n",
       "    <tr>\n",
       "      <th>4</th>\n",
       "      <td>On Wed Aug 21 2002 at 15:46, Ulises Ponce wrot...</td>\n",
       "      <td>0</td>\n",
       "      <td>4</td>\n",
       "    </tr>\n",
       "    <tr>\n",
       "      <th>...</th>\n",
       "      <td>...</td>\n",
       "      <td>...</td>\n",
       "      <td>...</td>\n",
       "    </tr>\n",
       "    <tr>\n",
       "      <th>3046</th>\n",
       "      <td>There is NO stumbling on to it! \\n\\n\\n\\nThe gr...</td>\n",
       "      <td>1</td>\n",
       "      <td>3047</td>\n",
       "    </tr>\n",
       "    <tr>\n",
       "      <th>3047</th>\n",
       "      <td>This is a multi-part message in MIME format.\\n...</td>\n",
       "      <td>1</td>\n",
       "      <td>3048</td>\n",
       "    </tr>\n",
       "    <tr>\n",
       "      <th>3048</th>\n",
       "      <td>&lt;html&gt;\\n\\n\\n\\n&lt;head&gt;\\n\\n&lt;meta http-equiv=\"Cont...</td>\n",
       "      <td>1</td>\n",
       "      <td>3049</td>\n",
       "    </tr>\n",
       "    <tr>\n",
       "      <th>3049</th>\n",
       "      <td>&lt;HTML&gt;\\n\\n&lt;BODY&gt;\\n\\n  &lt;tr valign=3D\"top\"&gt; \\n\\n...</td>\n",
       "      <td>1</td>\n",
       "      <td>3050</td>\n",
       "    </tr>\n",
       "    <tr>\n",
       "      <th>3050</th>\n",
       "      <td>UNCOMMON EXOTIC PLEASURE BOTANICALS!\\n\\n\\n\\nFe...</td>\n",
       "      <td>1</td>\n",
       "      <td>3051</td>\n",
       "    </tr>\n",
       "  </tbody>\n",
       "</table>\n",
       "<p>3051 rows × 3 columns</p>\n",
       "</div>"
      ],
      "text/plain": [
       "                                                  EMAIL  LABEL  FILE_NAME\n",
       "0         Date:        Wed, 21 Aug 2002 10:54:46 -05...      0          0\n",
       "1     Martin A posted:\\n\\nTassos Papadopoulos, the G...      0          1\n",
       "2     Man Threatens Explosion In Moscow \\n\\n\\n\\nThur...      0          2\n",
       "3     Klez: The Virus That Won't Die\\n\\n \\n\\nAlready...      0          3\n",
       "4     On Wed Aug 21 2002 at 15:46, Ulises Ponce wrot...      0          4\n",
       "...                                                 ...    ...        ...\n",
       "3046  There is NO stumbling on to it! \\n\\n\\n\\nThe gr...      1       3047\n",
       "3047  This is a multi-part message in MIME format.\\n...      1       3048\n",
       "3048  <html>\\n\\n\\n\\n<head>\\n\\n<meta http-equiv=\"Cont...      1       3049\n",
       "3049  <HTML>\\n\\n<BODY>\\n\\n  <tr valign=3D\"top\"> \\n\\n...      1       3050\n",
       "3050  UNCOMMON EXOTIC PLEASURE BOTANICALS!\\n\\n\\n\\nFe...      1       3051\n",
       "\n",
       "[3051 rows x 3 columns]"
      ]
     },
     "execution_count": 4,
     "metadata": {},
     "output_type": "execute_result"
    }
   ],
   "source": [
    "df"
   ]
  },
  {
   "cell_type": "code",
   "execution_count": 6,
   "id": "legendary-ecology",
   "metadata": {},
   "outputs": [],
   "source": [
    "df.sort_index(inplace=True)"
   ]
  },
  {
   "cell_type": "code",
   "execution_count": 7,
   "id": "daily-description",
   "metadata": {},
   "outputs": [
    {
     "data": {
      "text/html": [
       "<div>\n",
       "<style scoped>\n",
       "    .dataframe tbody tr th:only-of-type {\n",
       "        vertical-align: middle;\n",
       "    }\n",
       "\n",
       "    .dataframe tbody tr th {\n",
       "        vertical-align: top;\n",
       "    }\n",
       "\n",
       "    .dataframe thead th {\n",
       "        text-align: right;\n",
       "    }\n",
       "</style>\n",
       "<table border=\"1\" class=\"dataframe\">\n",
       "  <thead>\n",
       "    <tr style=\"text-align: right;\">\n",
       "      <th></th>\n",
       "      <th>EMAIL</th>\n",
       "      <th>LABEL</th>\n",
       "      <th>FILE_NAME</th>\n",
       "    </tr>\n",
       "  </thead>\n",
       "  <tbody>\n",
       "    <tr>\n",
       "      <th>0</th>\n",
       "      <td>Date:        Wed, 21 Aug 2002 10:54:46 -05...</td>\n",
       "      <td>0</td>\n",
       "      <td>0</td>\n",
       "    </tr>\n",
       "    <tr>\n",
       "      <th>1</th>\n",
       "      <td>Martin A posted:\\n\\nTassos Papadopoulos, the G...</td>\n",
       "      <td>0</td>\n",
       "      <td>1</td>\n",
       "    </tr>\n",
       "    <tr>\n",
       "      <th>2</th>\n",
       "      <td>Man Threatens Explosion In Moscow \\n\\n\\n\\nThur...</td>\n",
       "      <td>0</td>\n",
       "      <td>2</td>\n",
       "    </tr>\n",
       "    <tr>\n",
       "      <th>3</th>\n",
       "      <td>Klez: The Virus That Won't Die\\n\\n \\n\\nAlready...</td>\n",
       "      <td>0</td>\n",
       "      <td>3</td>\n",
       "    </tr>\n",
       "    <tr>\n",
       "      <th>4</th>\n",
       "      <td>On Wed Aug 21 2002 at 15:46, Ulises Ponce wrot...</td>\n",
       "      <td>0</td>\n",
       "      <td>4</td>\n",
       "    </tr>\n",
       "    <tr>\n",
       "      <th>...</th>\n",
       "      <td>...</td>\n",
       "      <td>...</td>\n",
       "      <td>...</td>\n",
       "    </tr>\n",
       "    <tr>\n",
       "      <th>3046</th>\n",
       "      <td>There is NO stumbling on to it! \\n\\n\\n\\nThe gr...</td>\n",
       "      <td>1</td>\n",
       "      <td>3047</td>\n",
       "    </tr>\n",
       "    <tr>\n",
       "      <th>3047</th>\n",
       "      <td>This is a multi-part message in MIME format.\\n...</td>\n",
       "      <td>1</td>\n",
       "      <td>3048</td>\n",
       "    </tr>\n",
       "    <tr>\n",
       "      <th>3048</th>\n",
       "      <td>&lt;html&gt;\\n\\n\\n\\n&lt;head&gt;\\n\\n&lt;meta http-equiv=\"Cont...</td>\n",
       "      <td>1</td>\n",
       "      <td>3049</td>\n",
       "    </tr>\n",
       "    <tr>\n",
       "      <th>3049</th>\n",
       "      <td>&lt;HTML&gt;\\n\\n&lt;BODY&gt;\\n\\n  &lt;tr valign=3D\"top\"&gt; \\n\\n...</td>\n",
       "      <td>1</td>\n",
       "      <td>3050</td>\n",
       "    </tr>\n",
       "    <tr>\n",
       "      <th>3050</th>\n",
       "      <td>UNCOMMON EXOTIC PLEASURE BOTANICALS!\\n\\n\\n\\nFe...</td>\n",
       "      <td>1</td>\n",
       "      <td>3051</td>\n",
       "    </tr>\n",
       "  </tbody>\n",
       "</table>\n",
       "<p>3051 rows × 3 columns</p>\n",
       "</div>"
      ],
      "text/plain": [
       "                                                  EMAIL  LABEL  FILE_NAME\n",
       "0         Date:        Wed, 21 Aug 2002 10:54:46 -05...      0          0\n",
       "1     Martin A posted:\\n\\nTassos Papadopoulos, the G...      0          1\n",
       "2     Man Threatens Explosion In Moscow \\n\\n\\n\\nThur...      0          2\n",
       "3     Klez: The Virus That Won't Die\\n\\n \\n\\nAlready...      0          3\n",
       "4     On Wed Aug 21 2002 at 15:46, Ulises Ponce wrot...      0          4\n",
       "...                                                 ...    ...        ...\n",
       "3046  There is NO stumbling on to it! \\n\\n\\n\\nThe gr...      1       3047\n",
       "3047  This is a multi-part message in MIME format.\\n...      1       3048\n",
       "3048  <html>\\n\\n\\n\\n<head>\\n\\n<meta http-equiv=\"Cont...      1       3049\n",
       "3049  <HTML>\\n\\n<BODY>\\n\\n  <tr valign=3D\"top\"> \\n\\n...      1       3050\n",
       "3050  UNCOMMON EXOTIC PLEASURE BOTANICALS!\\n\\n\\n\\nFe...      1       3051\n",
       "\n",
       "[3051 rows x 3 columns]"
      ]
     },
     "execution_count": 7,
     "metadata": {},
     "output_type": "execute_result"
    }
   ],
   "source": [
    "df"
   ]
  },
  {
   "cell_type": "markdown",
   "id": "nearby-steal",
   "metadata": {},
   "source": [
    "## Tokenization"
   ]
  },
  {
   "cell_type": "code",
   "execution_count": 8,
   "id": "intended-puppy",
   "metadata": {},
   "outputs": [],
   "source": [
    "vectorizer = CountVectorizer(stop_words='english')"
   ]
  },
  {
   "cell_type": "code",
   "execution_count": 9,
   "id": "seasonal-convergence",
   "metadata": {},
   "outputs": [],
   "source": [
    "features = vectorizer.fit_transform(df.EMAIL)"
   ]
  },
  {
   "cell_type": "code",
   "execution_count": 10,
   "id": "impaired-conversation",
   "metadata": {},
   "outputs": [
    {
     "data": {
      "text/plain": [
       "(3051, 61735)"
      ]
     },
     "execution_count": 10,
     "metadata": {},
     "output_type": "execute_result"
    }
   ],
   "source": [
    "features.shape"
   ]
  },
  {
   "cell_type": "markdown",
   "id": "excited-nomination",
   "metadata": {},
   "source": [
    "## Train test split"
   ]
  },
  {
   "cell_type": "code",
   "execution_count": 19,
   "id": "organizational-williams",
   "metadata": {},
   "outputs": [],
   "source": [
    "X_train, X_test, y_train, y_test = train_test_split(features,df.LABEL, test_size=0.3, random_state=101)"
   ]
  },
  {
   "cell_type": "markdown",
   "id": "insured-pollution",
   "metadata": {},
   "source": [
    "## Implementing Naive Bayes Model"
   ]
  },
  {
   "cell_type": "code",
   "execution_count": 20,
   "id": "fantastic-qatar",
   "metadata": {},
   "outputs": [],
   "source": [
    "model = MultinomialNB()"
   ]
  },
  {
   "cell_type": "code",
   "execution_count": 21,
   "id": "unexpected-acceptance",
   "metadata": {},
   "outputs": [
    {
     "data": {
      "text/plain": [
       "MultinomialNB()"
      ]
     },
     "execution_count": 21,
     "metadata": {},
     "output_type": "execute_result"
    }
   ],
   "source": [
    "model.fit(X_train,y_train)"
   ]
  },
  {
   "cell_type": "code",
   "execution_count": 24,
   "id": "reverse-medicaid",
   "metadata": {},
   "outputs": [],
   "source": [
    "cm = confusion_matrix(y_test, model.predict(X_test))"
   ]
  },
  {
   "cell_type": "code",
   "execution_count": 25,
   "id": "adverse-final",
   "metadata": {},
   "outputs": [
    {
     "data": {
      "text/plain": [
       "array([[776,   2],\n",
       "       [ 26, 112]], dtype=int64)"
      ]
     },
     "execution_count": 25,
     "metadata": {},
     "output_type": "execute_result"
    }
   ],
   "source": [
    "cm"
   ]
  },
  {
   "cell_type": "code",
   "execution_count": 26,
   "id": "stable-beginning",
   "metadata": {},
   "outputs": [
    {
     "name": "stdout",
     "output_type": "stream",
     "text": [
      "              precision    recall  f1-score   support\n",
      "\n",
      "           0       0.97      1.00      0.98       778\n",
      "           1       0.98      0.81      0.89       138\n",
      "\n",
      "    accuracy                           0.97       916\n",
      "   macro avg       0.98      0.90      0.94       916\n",
      "weighted avg       0.97      0.97      0.97       916\n",
      "\n"
     ]
    }
   ],
   "source": [
    "print(classification_report(y_test, model.predict(X_test)))"
   ]
  }
 ],
 "metadata": {
  "kernelspec": {
   "display_name": "Python 3",
   "language": "python",
   "name": "python3"
  },
  "language_info": {
   "codemirror_mode": {
    "name": "ipython",
    "version": 3
   },
   "file_extension": ".py",
   "mimetype": "text/x-python",
   "name": "python",
   "nbconvert_exporter": "python",
   "pygments_lexer": "ipython3",
   "version": "3.7.1"
  }
 },
 "nbformat": 4,
 "nbformat_minor": 5
}
